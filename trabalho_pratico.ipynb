{
 "metadata": {
  "language_info": {
   "codemirror_mode": {
    "name": "ipython",
    "version": 3
   },
   "file_extension": ".py",
   "mimetype": "text/x-python",
   "name": "python",
   "nbconvert_exporter": "python",
   "pygments_lexer": "ipython3",
   "version": "3.8.5-final"
  },
  "orig_nbformat": 2,
  "kernelspec": {
   "name": "Python 3.8.5 32-bit",
   "display_name": "Python 3.8.5 32-bit",
   "metadata": {
    "interpreter": {
     "hash": "a0034691f09e56f968de13a6b12340aa416b5a5f0f2b43225d7dd7d5c69448b2"
    }
   }
  }
 },
 "nbformat": 4,
 "nbformat_minor": 2,
 "cells": [
  {
   "cell_type": "code",
   "execution_count": 3,
   "metadata": {
    "tags": []
   },
   "outputs": [
    {
     "output_type": "stream",
     "name": "stdout",
     "text": "No próximo ano você terá 2 anos\n"
    }
   ],
   "source": [
    "idade = int(input('Entre com sua idade: '))\n",
    "nova_idade = idade + 1\n",
    "print('No próximo ano você terá {} anos'.format(nova_idade))"
   ]
  },
  {
   "cell_type": "code",
   "execution_count": 9,
   "metadata": {
    "tags": []
   },
   "outputs": [
    {
     "output_type": "stream",
     "name": "stdout",
     "text": "<class 'float'>\nO retângulo de lado A = 35.00 e lado B = 14.33 é 501.667\n"
    }
   ],
   "source": [
    "lado_a = 35\n",
    "lado_b = 14.33333\n",
    "area_do_retangulo = lado_a*lado_b\n",
    "print(type(area_do_retangulo))\n",
    "print('O retângulo de lado A = %.2f e lado B = %.2f é %.3f'%(lado_a,lado_b,area_do_retangulo))"
   ]
  },
  {
   "cell_type": "code",
   "execution_count": 7,
   "metadata": {
    "tags": []
   },
   "outputs": [
    {
     "output_type": "stream",
     "name": "stdout",
     "text": "IGTI\n"
    }
   ],
   "source": [
    "lista_1 = [1,2,'IGTI']\n",
    "lista_2 = [2,3,'Bootcamp']\n",
    "lista_3 = lista_1 + lista_2\n",
    "print(lista_3[2])"
   ]
  },
  {
   "cell_type": "code",
   "execution_count": 8,
   "metadata": {
    "tags": []
   },
   "outputs": [
    {
     "output_type": "stream",
     "name": "stdout",
     "text": "Você acertou um dos números que eu estava pensando.\nEsse número é maior que 15.\nEsse número é menor que 20.\nVocê é fera.\nObrigado por participar.\n"
    }
   ],
   "source": [
    "chute = int(input('Entre com um valor inteiro de 0 a 30: '))\n",
    "advinhacao = [5,6,10,14,16,20,30]\n",
    "if chute in advinhacao:\n",
    "  print('Você acertou um dos números que eu estava pensando.')\n",
    "\n",
    "  if chute > 15:\n",
    "    print('Esse número é maior que 15.')\n",
    "    \n",
    "  if chute < 20:\n",
    "    print('Esse número é menor que 20.')\n",
    "\n",
    "  print('Você é fera.')\n",
    "else:\n",
    "  print('Que pena, você errou. Pode tentar outra vez.')\n",
    "print('Obrigado por participar.')"
   ]
  },
  {
   "cell_type": "code",
   "execution_count": 5,
   "metadata": {
    "tags": []
   },
   "outputs": [
    {
     "output_type": "stream",
     "name": "stdout",
     "text": "maçã\nbanana\n"
    }
   ],
   "source": [
    "frutas = ['maçã','banana','uva','goiaba']\n",
    "frutas.append('pêra')\n",
    "for x in frutas:\n",
    "  if x == 'uva':\n",
    "    break\n",
    "  print(x)"
   ]
  },
  {
   "cell_type": "code",
   "execution_count": 4,
   "metadata": {
    "tags": []
   },
   "outputs": [
    {
     "output_type": "stream",
     "name": "stdout",
     "text": "4\n3\n2\n1\n0\n"
    }
   ],
   "source": [
    "n = 5\n",
    "while n > 0:\n",
    "  n -= 1\n",
    "  print(n)"
   ]
  }
 ]
}