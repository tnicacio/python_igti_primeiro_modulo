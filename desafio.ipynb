{
 "metadata": {
  "language_info": {
   "codemirror_mode": {
    "name": "ipython",
    "version": 3
   },
   "file_extension": ".py",
   "mimetype": "text/x-python",
   "name": "python",
   "nbconvert_exporter": "python",
   "pygments_lexer": "ipython3",
   "version": "3.8.5-final"
  },
  "orig_nbformat": 2,
  "kernelspec": {
   "name": "Python 3.8.5 32-bit",
   "display_name": "Python 3.8.5 32-bit",
   "metadata": {
    "interpreter": {
     "hash": "a0034691f09e56f968de13a6b12340aa416b5a5f0f2b43225d7dd7d5c69448b2"
    }
   }
  }
 },
 "nbformat": 4,
 "nbformat_minor": 2,
 "cells": [
  {
   "cell_type": "code",
   "execution_count": 36,
   "metadata": {},
   "outputs": [
    {
     "output_type": "execute_result",
     "data": {
      "text/plain": "600"
     },
     "metadata": {},
     "execution_count": 36
    }
   ],
   "source": [
    "def funcao_1(num1, num2):\n",
    "    resultado = num1 * num2\n",
    "    if resultado <= 1000:\n",
    "        return resultado\n",
    "    else :\n",
    "        return num1 + num2\n",
    "\n",
    "numero_1 = 20\n",
    "numero_2 = 30\n",
    "\n",
    "#funcao_1(numero_1, numero_2)\n",
    "funcao_1(10, 20)"
   ]
  },
  {
   "cell_type": "code",
   "execution_count": 18,
   "metadata": {
    "tags": []
   },
   "outputs": [
    {
     "output_type": "stream",
     "name": "stdout",
     "text": "Numero A  0 Numero B  0  Resultado:  0\nNumero A  1 Numero B  0  Resultado:  1\nNumero A  2 Numero B  1  Resultado:  3\nNumero A  3 Numero B  2  Resultado:  5\nNumero A  4 Numero B  3  Resultado:  7\nNumero A  5 Numero B  4  Resultado:  9\nNumero A  6 Numero B  5  Resultado:  11\nNumero A  7 Numero B  6  Resultado:  13\nNumero A  8 Numero B  7  Resultado:  15\nNumero A  9 Numero B  8  Resultado:  17\n"
    }
   ],
   "source": [
    "def funcao_2(num):\n",
    "    numero_anterior = 0\n",
    "    for i in range(num):\n",
    "        resultado = numero_anterior + i\n",
    "        print(\"Numero A \", i, \"Numero B \", numero_anterior, \" Resultado: \", resultado)\n",
    "        numero_anterior = i\n",
    "\n",
    "funcao_2(10)"
   ]
  },
  {
   "cell_type": "code",
   "execution_count": 19,
   "metadata": {},
   "outputs": [],
   "source": [
    "def funcao_3(str):\n",
    "    for i in range(0, len(str)-1, 2):\n",
    "        print(\"indice[\",i,\"]\", str[i])\n"
   ]
  },
  {
   "cell_type": "code",
   "execution_count": 20,
   "metadata": {},
   "outputs": [],
   "source": [
    "def funcao_4(lista_numerica):\n",
    "    print(\"valor passado \", lista_numerica)\n",
    "    a = lista_numerica[0]\n",
    "    b = lista_numerica[-1]\n",
    "    if (a == b):\n",
    "        return True\n",
    "    else:\n",
    "        return False\n",
    "\n",
    "numeros = [10, 20, 30, 40, 10]\n"
   ]
  },
  {
   "cell_type": "code",
   "execution_count": 27,
   "metadata": {
    "tags": []
   },
   "outputs": [
    {
     "output_type": "stream",
     "name": "stdout",
     "text": "4\n"
    }
   ],
   "source": [
    "class Classe_1:\n",
    "    def funcao_da_classe_1(self, string):\n",
    "        dicionario = {'I': 1, 'V': 5, 'X': 10, 'L': 50, 'C': 100, 'D': 500, 'M': 1000}\n",
    "        valor = 0\n",
    "        for i in range(len(string)):\n",
    "            if i > 0 and dicionario[string[i]] > dicionario[string[i - 1]]:\n",
    "                #print(f'{i}, {dicionario[string[i]]}, {dicionario[string[i - 1]]}')\n",
    "                valor += dicionario[string[i]] - 2 * dicionario[string[i - 1]]\n",
    "            else:\n",
    "                #print(f'{i}, {dicionario[string[i]]}')\n",
    "                valor += dicionario[string[i]]\n",
    "        return valor\n",
    "\n",
    "ConversorRomanoArabico = Classe_1()\n",
    "arabico = ConversorRomanoArabico.funcao_da_classe_1('IV')\n",
    "print(arabico)"
   ]
  },
  {
   "cell_type": "code",
   "execution_count": 28,
   "metadata": {
    "tags": []
   },
   "outputs": [
    {
     "output_type": "stream",
     "name": "stdout",
     "text": "i da Class A 90\n"
    }
   ],
   "source": [
    "class A:\n",
    "    def __init__(self):\n",
    "        self.calcI(30)\n",
    "        print(\"i da Class A\", self.i)\n",
    "    \n",
    "    def calcI(self, i):\n",
    "        self.i = 2* i;\n",
    "\n",
    "class B(A):\n",
    "    def __init__(self):\n",
    "        super().__init__()\n",
    "    \n",
    "    def calcI(self, i):\n",
    "        self.i = 3 * i;\n",
    "\n",
    "b = B()"
   ]
  },
  {
   "cell_type": "code",
   "execution_count": 38,
   "metadata": {
    "tags": []
   },
   "outputs": [
    {
     "output_type": "stream",
     "name": "stdout",
     "text": "120\n"
    }
   ],
   "source": [
    "class Classe_2():\n",
    "    def __init__(self, l, w):\n",
    "        self.a = l\n",
    "        self.b = w\n",
    "    \n",
    "    def metodo_1(self):\n",
    "        return self.a * self.b\n",
    "\n",
    "objeto_1 = Classe_2(12, 10)\n",
    "area_retangulo_1 = objeto_1.metodo_1()\n",
    "print(area_retangulo_1)"
   ]
  }
 ]
}